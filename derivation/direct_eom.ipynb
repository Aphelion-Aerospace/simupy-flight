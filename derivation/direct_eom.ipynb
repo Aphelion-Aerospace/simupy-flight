{
 "cells": [
  {
   "cell_type": "code",
   "execution_count": 1,
   "metadata": {},
   "outputs": [],
   "source": [
    "from sympy.physics.mechanics import dynamicsymbols, inertia\n",
    "import sympy as sp, numpy as np\n",
    "import sympy.physics.vector as vector\n",
    "from sympy.algebras.quaternion import Quaternion\n",
    "from sympy.utilities.lambdify import lambdastr\n",
    "from sympy import symbols\n",
    "import sys, os\n",
    "\n",
    "from simupy import codegen"
   ]
  },
  {
   "cell_type": "code",
   "execution_count": 2,
   "metadata": {},
   "outputs": [],
   "source": [
    "t = dynamicsymbols._t # time symbol\n",
    "\n",
    "omega_p, a, f, e = kinematics_parameters = symbols('omega_p a f e') # planet angular velocity, semi-major axis length, flattening ratio, eccentricity\n",
    "e_squared = 1-(1-f)**2 # planet eccentricity\n",
    "# since f = 1 - (b/a) and b <= a, we actually have f in \n",
    "\n",
    "lamda_I, lamda_E, phi_E, h, phi_C, r_p, rho_M, rho_V = dynamicsymbols('lamda_I lamda_E phi_E h phi_C r_p rho_M rho_V') \n",
    "# inertial longitude (lamda_E = lamda_I - omega_p*t)\n",
    "# geodetic longitude, geodetic latitude, geodetic altitude (note, geo |-> planeto to genearalize)\n",
    "# geocentric latitude, geocentric radius to point on surface\n",
    "# radius of curvature (in prime meridian), radius of curvature in prime vertical\n",
    "\n",
    "psi, theta, phi = dynamicsymbols('psi theta phi') # euler angles local to body : yaw pitch roll\n",
    "\n",
    "# planet-based reference frames\n",
    "I = vector.frame.ReferenceFrame('I') # earth centered Inertial\n",
    "G = I.orientnew('G', 'Body', [omega_p*t, 0, 0], '321') # earth centered, earth Fixed \n",
    "# this G only shows rotation, but could also show nutation and procession \n",
    "NED = G.orientnew('NED', 'Body', [lamda_E, -phi_E-sp.pi/2, 0], '321') # local/NED on planet surface\n",
    "C = NED.orientnew('C', 'Body', [phi_E-phi_C, 0, 0], '213')\n",
    "# C_NESC = M.orientnew('C', 'Body', [0, -phi_C-sp.pi/2, 0], '321')\n",
    "# points C.z to planet center from point P on surface of oblate spheroid directly below object O\n",
    "\n",
    "V_N, V_E, V_D = V_NED = sp.Array(\n",
    "    # relative velocity in local frame (NED) -- add winds to get aero\n",
    "    dynamicsymbols('V_N V_E V_D')\n",
    ")\n",
    "\n",
    "# expression for radii of curvature in terms of detic latitue\n",
    "rho_M_expr_phi_E = a*(1-e**2)/sp.sqrt(1-e**2*sp.sin(phi_E)**2)**(3)\n",
    "rho_V_expr_phi_E = a/sp.sqrt(1-e**2*sp.sin(phi_E)**2)\n",
    "\n",
    "# kinematic expressions for geodetic lat and long from NESC; not sure if needed\n",
    "phi_E_dot_expr = V_N/(rho_M+h)\n",
    "lamda_E_dot_expr = V_E/((rho_V + h)*sp.cos(phi_E))\n",
    "\n",
    "I0 = vector.Point('I_0') # planet center\n",
    "I0.set_vel(I, 0)\n",
    "I0.set_acc(I, 0)\n",
    "\n",
    "I0.set_vel(G, 0)\n",
    "I0.set_acc(G, 0)\n",
    "\n",
    "# I0.set_vel(M, 0)\n",
    "# I0.set_acc(M, 0)\n",
    "\n",
    "\n",
    "# inertial position, velocity, and acceleration of vehicle center of mass\n",
    "# expressed in ECI frame\n",
    "px, py, pz = inertial_pos_I = sp.Array(dynamicsymbols('p_x p_y p_z'))\n",
    "vx, vy, vz = inertial_vel_I = sp.Array(dynamicsymbols('v_x v_y v_z'))\n",
    "ax, ay, az = inertial_acc_I = sp.Array(dynamicsymbols('a_x a_y a_z'))\n",
    "\n",
    "inertial_pos_I_deriv_dict = sp.solve(inertial_pos_I.diff(t) - inertial_vel_I, inertial_pos_I.diff(t))\n",
    "\n",
    "\n",
    "B_cm = vector.Point('B_cm') # center of mass of vehicle body B\n",
    "B_cm.set_pos(I0, px*I.x + py*I.y + pz*I.z)\n",
    "B_cm.set_vel(I, vx*I.x + vy*I.y + vz*I.z)\n",
    "B_cm.set_acc(I, ax*I.x + ay*I.y + az*I.z)\n",
    "\n",
    "# symbolic placeholder for geocentric rectangular coordinates to geodetic polar coordinates \n",
    "# transformation function\n",
    "gc2gd = symbols('gc2gd', cls=sp.Function)(px, py, pz)\n",
    "gc2gd.shape = (3,)\n",
    "\n",
    "gd2gc = symbols('gd2gc', cls=sp.Function)(lamda_E, phi_E, h)\n",
    "gd2gc.shape = (3,)\n",
    "\n",
    "\n",
    "# placeholder functions for calling (potentially perturbable) atmospheric functions\n",
    "planet_fixed_position_x, planet_fixed_position_y, planet_fixed_position_z = planet_fixed_position = sp.Array(\n",
    "    dynamicsymbols('ap_x ap_y ap_z') # lat, long, altitude if not flat, p_x, p_y, p_z if flat\n",
    ")\n",
    "planet_fixed_func_args = (t, planet_fixed_position_x, planet_fixed_position_y, planet_fixed_position_z)\n",
    "\n",
    "# function for acceleration due to gravity \n",
    "# TODO: check if this should actually be a function of planet fixed\n",
    "# I believe this can capture common translational acceleration -- Well, DOESN'T CAPTURE FLAT! lol.\n",
    "# hopefully it captures all other common translational acceleration due to gravity.\n",
    "# should suffice for NESC's spherical and harmonic\n",
    "# TODO: consider a switch so it's just in the N.z direction if flat\n",
    "\n",
    "gravity_func = sp.symbols('gravity', cls=sp.Function)(px, py, pz)\n",
    "gravity_func.shape = (3,)\n",
    "#J Hill says 84-WGS gravity is standard, 18? term spherical\n",
    "gx, gy, gz = g = sp.Array(dynamicsymbols('g_x g_y g_z'))\n",
    "translation_acceleration_due_to_gravity = gx*I.x + gy*I.y + gz*I.z\n",
    "\n",
    "\n",
    "# atmospheric functions for density and wind\n",
    "density, speed_of_sound, viscosity = dynamicsymbols('rho c_s mu')\n",
    "\n",
    "winds_func = sp.symbols('winds', cls=sp.Function)(*planet_fixed_func_args)\n",
    "winds_func.shape = (3,)\n",
    "W_N, W_E, W_D = W_NED = sp.Array(\n",
    "    dynamicsymbols('W_N W_E W_D')\n",
    ")\n",
    "\n",
    "density_func = symbols('density', cls=sp.Function)(*planet_fixed_func_args)\n",
    "speed_of_sound_func = symbols('speed_of_sound', cls=sp.Function)(*planet_fixed_func_args)\n",
    "viscosity_func = symbols('viscosity', cls=sp.Function)(*planet_fixed_func_args)\n",
    "\n",
    "\n",
    "# non-unit quaternion component symbols to represent I to body B attitude\n",
    "q = sp.Array(\n",
    "    dynamicsymbols('q_0:4') \n",
    ")\n",
    "qmag = sp.sqrt(sp.tensorcontraction(sp.tensorproduct(q, q), (0,1))) # magnitude of non-unit quaternion\n",
    "qq = Quaternion(*(q/qmag)) # q as unit-quaternion Quaternion object\n",
    "cq = dynamicsymbols('c_q') # scalar control variable for derivative of q. See Rucker 2018\n",
    "\n",
    "# reference frame for body B\n",
    "B = I.orientnew('B', 'quaternion', qq.args)\n",
    "\n",
    "\n",
    "# angular velocity of vehicle body B w.r.t. inertial in body-fixed coordinates\n",
    "omega_X, omega_Y, omega_Z = omega = I_ang_vel_B = sp.Array(dynamicsymbols('omega_X omega_Y omega_Z'))\n",
    "B.set_ang_vel(I, omega_X*B.x + omega_Y*B.y + omega_Z*B.z)\n",
    "\n",
    "# angular acceleration of vehicle body B w.r.t. inertial in body-fixed coordinates\n",
    "alpha_X, alpha_Y, alpha_Z = I_ang_acc_B = sp.Array(dynamicsymbols('alpha_X alpha_Y alpha_Z'))\n",
    "I_ang_vel_B_deriv_dict = sp.solve(I_ang_vel_B.diff(t) - I_ang_acc_B, I_ang_vel_B.diff(t))\n",
    "\n",
    "# inertial acceleration EXCLUDING GRAVITY of vehicle expressed in body-fixed coordinates\n",
    "# intended to capture vehicle dynamics based on vehicle configuration (aero, prop, other control effectors, etc)\n",
    "# input to kinematics block\n",
    "AX, AY, AZ = inertial_acc_B = sp.Array(dynamicsymbols('A_X A_Y A_Z'))\n",
    "\n",
    "translation_acceleration_due_to_body = AX*B.x + AY*B.y + AZ*B.z\n",
    "\n",
    "kinematics_state = sp.Array((*inertial_pos_I, *inertial_vel_I, *q, *I_ang_vel_B))\n",
    "kinematics_input = sp.Array((*inertial_acc_B, *I_ang_acc_B, cq)) # TODO: have cq default to 0? or does SimuPy do that automatically?\n",
    "\n",
    "airspeed_in_B = sp.Array(dynamicsymbols('u_B v_B w_B'))\n",
    "V_T, alpha, beta = sp.Array(dynamicsymbols('V_T alpha beta'))\n",
    "G_ang_vel_B = sp.Array(dynamicsymbols('p_B q_B r_B'))\n",
    "\n",
    "kinematics_output = sp.Array((\n",
    "   *kinematics_state, \n",
    "\n",
    "   # these are guidance and control feedback outputs, essentially\n",
    "   lamda_E, phi_E, h, # earth-fixed geodetic spherical position coordinates -- follow logic of planet_fixed_position -- can be used for navigation/guidance problems\n",
    "   psi, theta, phi, # NED-to-body yaw pitch roll, if possible\n",
    "\n",
    "   # what is needed for aerodynamics \n",
    "   density, speed_of_sound, viscosity, # speed of sound, viscosity, and true airspeed give the needed atmospheric conditions\n",
    "   V_T, alpha, beta, # true air speed, angle of attack, sideslip\n",
    "   *G_ang_vel_B, # aero angular velocities -- possibly not needed but I think it is\n",
    "\n",
    "   *V_NED, # might as well, I guess? planet-fixed velocities in local frame\n",
    "   *W_NED, # local wind\n",
    "))\n",
    "\n",
    "kinematics_function_modules = {}\n",
    "kinematics_function_modules[gc2gd] = 'self'\n",
    "kinematics_function_modules[density_func] = 'self'\n",
    "kinematics_function_modules[speed_of_sound_func] = 'self'\n",
    "kinematics_function_modules[viscosity_func] = 'self'\n",
    "kinematics_function_modules[gravity_func] = 'self'\n",
    "kinematics_function_modules[winds_func] = 'self'"
   ]
  },
  {
   "cell_type": "code",
   "execution_count": 3,
   "metadata": {},
   "outputs": [
    {
     "data": {
      "text/latex": [
       "$\\displaystyle \\left[\\begin{matrix}\\operatorname{c_{q}}{\\left(t \\right)} \\operatorname{q_{0}}{\\left(t \\right)} - \\frac{\\omega_{X}{\\left(t \\right)} \\operatorname{q_{1}}{\\left(t \\right)}}{2} - \\frac{\\omega_{Y}{\\left(t \\right)} \\operatorname{q_{2}}{\\left(t \\right)}}{2} - \\frac{\\omega_{Z}{\\left(t \\right)} \\operatorname{q_{3}}{\\left(t \\right)}}{2}\\\\\\operatorname{c_{q}}{\\left(t \\right)} \\operatorname{q_{1}}{\\left(t \\right)} + \\frac{\\omega_{X}{\\left(t \\right)} \\operatorname{q_{0}}{\\left(t \\right)}}{2} - \\frac{\\omega_{Y}{\\left(t \\right)} \\operatorname{q_{3}}{\\left(t \\right)}}{2} + \\frac{\\omega_{Z}{\\left(t \\right)} \\operatorname{q_{2}}{\\left(t \\right)}}{2}\\\\\\operatorname{c_{q}}{\\left(t \\right)} \\operatorname{q_{2}}{\\left(t \\right)} + \\frac{\\omega_{X}{\\left(t \\right)} \\operatorname{q_{3}}{\\left(t \\right)}}{2} + \\frac{\\omega_{Y}{\\left(t \\right)} \\operatorname{q_{0}}{\\left(t \\right)}}{2} - \\frac{\\omega_{Z}{\\left(t \\right)} \\operatorname{q_{1}}{\\left(t \\right)}}{2}\\\\\\operatorname{c_{q}}{\\left(t \\right)} \\operatorname{q_{3}}{\\left(t \\right)} - \\frac{\\omega_{X}{\\left(t \\right)} \\operatorname{q_{2}}{\\left(t \\right)}}{2} + \\frac{\\omega_{Y}{\\left(t \\right)} \\operatorname{q_{1}}{\\left(t \\right)}}{2} + \\frac{\\omega_{Z}{\\left(t \\right)} \\operatorname{q_{0}}{\\left(t \\right)}}{2}\\end{matrix}\\right]$"
      ],
      "text/plain": [
       "Matrix([\n",
       "[c_q(t)*q_0(t) - omega_X(t)*q_1(t)/2 - omega_Y(t)*q_2(t)/2 - omega_Z(t)*q_3(t)/2],\n",
       "[c_q(t)*q_1(t) + omega_X(t)*q_0(t)/2 - omega_Y(t)*q_3(t)/2 + omega_Z(t)*q_2(t)/2],\n",
       "[c_q(t)*q_2(t) + omega_X(t)*q_3(t)/2 + omega_Y(t)*q_0(t)/2 - omega_Z(t)*q_1(t)/2],\n",
       "[c_q(t)*q_3(t) - omega_X(t)*q_2(t)/2 + omega_Y(t)*q_1(t)/2 + omega_Z(t)*q_0(t)/2]])"
      ]
     },
     "execution_count": 3,
     "metadata": {},
     "output_type": "execute_result"
    }
   ],
   "source": [
    "# quaternion kinematics\n",
    "def Omega(ang_vel):\n",
    "    return sp.Matrix(\n",
    "        [\n",
    "            [0, -ang_vel[0], -ang_vel[1], -ang_vel[2]],\n",
    "            [ang_vel[0], 0, ang_vel[2], -ang_vel[1]],\n",
    "            [ang_vel[1], -ang_vel[2], 0, ang_vel[0]],\n",
    "            [ang_vel[2], ang_vel[1], -ang_vel[0], 0]\n",
    "        ]\n",
    "    )\n",
    "\n",
    "qvec = sp.Matrix(q)\n",
    "qdot_vec_expr = Omega(I_ang_vel_B)@qvec/2 + cq*qvec\n",
    "qdotvec = sp.Matrix(q.diff(t))\n",
    "q_deriv_dict = sp.solve(qdot_vec_expr - qdotvec, qdotvec)\n",
    "qdot_vec_expr"
   ]
  },
  {
   "cell_type": "code",
   "execution_count": 4,
   "metadata": {},
   "outputs": [
    {
     "data": {
      "text/plain": [
       "{Derivative(v_x(t), t): (A_X(t)*q_0(t)**2 + A_X(t)*q_1(t)**2 - A_X(t)*q_2(t)**2 - A_X(t)*q_3(t)**2 - 2*A_Y(t)*q_0(t)*q_3(t) + 2*A_Y(t)*q_1(t)*q_2(t) + 2*A_Z(t)*q_0(t)*q_2(t) + 2*A_Z(t)*q_1(t)*q_3(t) + g_x(t)*q_0(t)**2 + g_x(t)*q_1(t)**2 + g_x(t)*q_2(t)**2 + g_x(t)*q_3(t)**2)/(q_0(t)**2 + q_1(t)**2 + q_2(t)**2 + q_3(t)**2),\n",
       " Derivative(v_y(t), t): (2*A_X(t)*q_0(t)*q_3(t) + 2*A_X(t)*q_1(t)*q_2(t) + A_Y(t)*q_0(t)**2 - A_Y(t)*q_1(t)**2 + A_Y(t)*q_2(t)**2 - A_Y(t)*q_3(t)**2 - 2*A_Z(t)*q_0(t)*q_1(t) + 2*A_Z(t)*q_2(t)*q_3(t) + g_y(t)*q_0(t)**2 + g_y(t)*q_1(t)**2 + g_y(t)*q_2(t)**2 + g_y(t)*q_3(t)**2)/(q_0(t)**2 + q_1(t)**2 + q_2(t)**2 + q_3(t)**2),\n",
       " Derivative(v_z(t), t): (-2*A_X(t)*q_0(t)*q_2(t) + 2*A_X(t)*q_1(t)*q_3(t) + 2*A_Y(t)*q_0(t)*q_1(t) + 2*A_Y(t)*q_2(t)*q_3(t) + A_Z(t)*q_0(t)**2 - A_Z(t)*q_1(t)**2 - A_Z(t)*q_2(t)**2 + A_Z(t)*q_3(t)**2 + g_z(t)*q_0(t)**2 + g_z(t)*q_1(t)**2 + g_z(t)*q_2(t)**2 + g_z(t)*q_3(t)**2)/(q_0(t)**2 + q_1(t)**2 + q_2(t)**2 + q_3(t)**2)}"
      ]
     },
     "execution_count": 4,
     "metadata": {},
     "output_type": "execute_result"
    }
   ],
   "source": [
    "# translational velocity kinematics -- translation_acceleration_due_to_body as input, \n",
    "inertial_vel_I_deriv_dict = sp.solve((translation_acceleration_due_to_gravity + translation_acceleration_due_to_body).to_matrix(I).simplify() - sp.Matrix(inertial_vel_I.diff(t)), inertial_vel_I.diff(t))\n",
    "inertial_vel_I_deriv_dict"
   ]
  },
  {
   "cell_type": "code",
   "execution_count": 5,
   "metadata": {},
   "outputs": [],
   "source": [
    "kinematics_state_equation_dict = {}\n",
    "for deriv_dict in inertial_pos_I_deriv_dict, inertial_vel_I_deriv_dict, q_deriv_dict, I_ang_vel_B_deriv_dict:\n",
    "    kinematics_state_equation_dict.update(deriv_dict)\n",
    "\n",
    "kinematics_state_extra_dict = {}\n",
    "kinematics_state_extra_dict[g] = gravity_func\n",
    "    \n",
    "sp.Array(kinematics_state_equation_dict.keys())\n",
    "\n",
    "kinematics_output_dict = {}\n",
    "kinematics_output_equation_extra_assinments_dict = {}\n",
    "\n",
    "for state_var in kinematics_state:\n",
    "    kinematics_output_dict[state_var] = state_var\n",
    "\n",
    "\n",
    "kinematics_output_equation_extra_assinments_dict[sp.Array((lamda_I, phi_E, h))] = gc2gd\n",
    "kinematics_output_equation_extra_assinments_dict[lamda_E] = lamda_I - omega_p*t\n",
    "kinematics_output_dict[lamda_E] = lamda_E\n",
    "kinematics_output_dict[phi_E] = phi_E\n",
    "kinematics_output_dict[h] = h\n",
    "\n",
    "kinematics_output_equation_extra_assinments_dict[planet_fixed_position_x] = sp.Piecewise((px, a<=0.), (phi_E, True)) # phi_E*sp.Heaviside(a, 0) + px*sp.Heaviside(-a, 1)\n",
    "kinematics_output_equation_extra_assinments_dict[planet_fixed_position_y] = sp.Piecewise((py, a<=0.), (lamda_E, True)) # lamda_E*sp.Heaviside(a, 0) + py*sp.Heaviside(-a, 1)\n",
    "kinematics_output_equation_extra_assinments_dict[planet_fixed_position_z] = h\n",
    "\n",
    "kinematics_output_equation_extra_assinments_dict[g] = gravity_func\n",
    "kinematics_output_equation_extra_assinments_dict[W_NED] = winds_func\n",
    "\n"
   ]
  },
  {
   "cell_type": "code",
   "execution_count": 6,
   "metadata": {},
   "outputs": [
    {
     "data": {
      "text/latex": [
       "$\\displaystyle a > 0$"
      ],
      "text/plain": [
       "a > 0"
      ]
     },
     "execution_count": 6,
     "metadata": {},
     "output_type": "execute_result"
    }
   ],
   "source": [
    "a>0"
   ]
  },
  {
   "cell_type": "code",
   "execution_count": 7,
   "metadata": {},
   "outputs": [],
   "source": [
    "NED_rotation_B = NED.dcm(I) @ I.dcm(B) # equivalent to NED.dcm(B), \n",
    "NED_rotation_B_simplified = NED_rotation_B#.simplify() # should be equivalent to LaRC slides [T^{BP}]\n",
    "\n",
    "\n",
    "kinematics_output_dict[psi] = sp.atan2(NED_rotation_B_simplified[1,0], NED_rotation_B_simplified[0,0])\n",
    "kinematics_output_dict[theta] = sp.asin(-NED_rotation_B_simplified[2,0]) # LaRC slides seem to disagree with Phillips 2001 by a sign here, cool. \n",
    "kinematics_output_dict[phi] = sp.atan2(NED_rotation_B_simplified[2,1], NED_rotation_B_simplified[2,2])\n"
   ]
  },
  {
   "cell_type": "code",
   "execution_count": 8,
   "metadata": {},
   "outputs": [
    {
     "data": {
      "text/latex": [
       "$\\displaystyle 0$"
      ],
      "text/plain": [
       "0"
      ]
     },
     "execution_count": 8,
     "metadata": {},
     "output_type": "execute_result"
    }
   ],
   "source": [
    "B.ang_vel_in(I) + I.ang_vel_in(G) - B.ang_vel_in(G)"
   ]
  },
  {
   "cell_type": "code",
   "execution_count": 9,
   "metadata": {},
   "outputs": [],
   "source": [
    "kinematics_output_equation_extra_assinments_dict[density] = density_func\n",
    "kinematics_output_equation_extra_assinments_dict[speed_of_sound] = speed_of_sound_func\n",
    "kinematics_output_equation_extra_assinments_dict[viscosity] = viscosity_func\n",
    "\n",
    "kinematics_output_dict[density] = density\n",
    "kinematics_output_dict[speed_of_sound] = speed_of_sound\n",
    "kinematics_output_dict[viscosity] = viscosity"
   ]
  },
  {
   "cell_type": "code",
   "execution_count": 10,
   "metadata": {},
   "outputs": [
    {
     "data": {
      "text/latex": [
       "$\\displaystyle \\left[\\begin{matrix}\\frac{2 \\left(- \\operatorname{q_{0}}{\\left(t \\right)} \\operatorname{q_{2}}{\\left(t \\right)} + \\operatorname{q_{1}}{\\left(t \\right)} \\operatorname{q_{3}}{\\left(t \\right)}\\right) \\left(\\operatorname{W_{D}}{\\left(t \\right)} \\sin{\\left(\\phi_{E}{\\left(t \\right)} \\right)} - \\operatorname{W_{N}}{\\left(t \\right)} \\cos{\\left(\\phi_{E}{\\left(t \\right)} \\right)} + \\operatorname{v_{z}}{\\left(t \\right)}\\right) + 2 \\left(\\operatorname{q_{0}}{\\left(t \\right)} \\operatorname{q_{3}}{\\left(t \\right)} + \\operatorname{q_{1}}{\\left(t \\right)} \\operatorname{q_{2}}{\\left(t \\right)}\\right) \\left(- \\omega_{p} \\operatorname{p_{x}}{\\left(t \\right)} + \\operatorname{W_{D}}{\\left(t \\right)} \\sin{\\left(\\omega_{p} t + \\lambda_{E}{\\left(t \\right)} \\right)} \\cos{\\left(\\phi_{E}{\\left(t \\right)} \\right)} - \\operatorname{W_{E}}{\\left(t \\right)} \\cos{\\left(\\omega_{p} t + \\lambda_{E}{\\left(t \\right)} \\right)} + \\operatorname{W_{N}}{\\left(t \\right)} \\sin{\\left(\\omega_{p} t + \\lambda_{E}{\\left(t \\right)} \\right)} \\sin{\\left(\\phi_{E}{\\left(t \\right)} \\right)} + \\operatorname{v_{y}}{\\left(t \\right)}\\right) + \\left(\\operatorname{q_{0}}^{2}{\\left(t \\right)} + \\operatorname{q_{1}}^{2}{\\left(t \\right)} - \\operatorname{q_{2}}^{2}{\\left(t \\right)} - \\operatorname{q_{3}}^{2}{\\left(t \\right)}\\right) \\left(\\omega_{p} \\operatorname{p_{y}}{\\left(t \\right)} + \\operatorname{W_{D}}{\\left(t \\right)} \\cos{\\left(\\omega_{p} t + \\lambda_{E}{\\left(t \\right)} \\right)} \\cos{\\left(\\phi_{E}{\\left(t \\right)} \\right)} + \\operatorname{W_{E}}{\\left(t \\right)} \\sin{\\left(\\omega_{p} t + \\lambda_{E}{\\left(t \\right)} \\right)} + \\operatorname{W_{N}}{\\left(t \\right)} \\sin{\\left(\\phi_{E}{\\left(t \\right)} \\right)} \\cos{\\left(\\omega_{p} t + \\lambda_{E}{\\left(t \\right)} \\right)} + \\operatorname{v_{x}}{\\left(t \\right)}\\right)}{\\operatorname{q_{0}}^{2}{\\left(t \\right)} + \\operatorname{q_{1}}^{2}{\\left(t \\right)} + \\operatorname{q_{2}}^{2}{\\left(t \\right)} + \\operatorname{q_{3}}^{2}{\\left(t \\right)}}\\\\\\frac{2 \\left(\\operatorname{q_{0}}{\\left(t \\right)} \\operatorname{q_{1}}{\\left(t \\right)} + \\operatorname{q_{2}}{\\left(t \\right)} \\operatorname{q_{3}}{\\left(t \\right)}\\right) \\left(\\operatorname{W_{D}}{\\left(t \\right)} \\sin{\\left(\\phi_{E}{\\left(t \\right)} \\right)} - \\operatorname{W_{N}}{\\left(t \\right)} \\cos{\\left(\\phi_{E}{\\left(t \\right)} \\right)} + \\operatorname{v_{z}}{\\left(t \\right)}\\right) + 2 \\left(- \\operatorname{q_{0}}{\\left(t \\right)} \\operatorname{q_{3}}{\\left(t \\right)} + \\operatorname{q_{1}}{\\left(t \\right)} \\operatorname{q_{2}}{\\left(t \\right)}\\right) \\left(\\omega_{p} \\operatorname{p_{y}}{\\left(t \\right)} + \\operatorname{W_{D}}{\\left(t \\right)} \\cos{\\left(\\omega_{p} t + \\lambda_{E}{\\left(t \\right)} \\right)} \\cos{\\left(\\phi_{E}{\\left(t \\right)} \\right)} + \\operatorname{W_{E}}{\\left(t \\right)} \\sin{\\left(\\omega_{p} t + \\lambda_{E}{\\left(t \\right)} \\right)} + \\operatorname{W_{N}}{\\left(t \\right)} \\sin{\\left(\\phi_{E}{\\left(t \\right)} \\right)} \\cos{\\left(\\omega_{p} t + \\lambda_{E}{\\left(t \\right)} \\right)} + \\operatorname{v_{x}}{\\left(t \\right)}\\right) + \\left(\\operatorname{q_{0}}^{2}{\\left(t \\right)} - \\operatorname{q_{1}}^{2}{\\left(t \\right)} + \\operatorname{q_{2}}^{2}{\\left(t \\right)} - \\operatorname{q_{3}}^{2}{\\left(t \\right)}\\right) \\left(- \\omega_{p} \\operatorname{p_{x}}{\\left(t \\right)} + \\operatorname{W_{D}}{\\left(t \\right)} \\sin{\\left(\\omega_{p} t + \\lambda_{E}{\\left(t \\right)} \\right)} \\cos{\\left(\\phi_{E}{\\left(t \\right)} \\right)} - \\operatorname{W_{E}}{\\left(t \\right)} \\cos{\\left(\\omega_{p} t + \\lambda_{E}{\\left(t \\right)} \\right)} + \\operatorname{W_{N}}{\\left(t \\right)} \\sin{\\left(\\omega_{p} t + \\lambda_{E}{\\left(t \\right)} \\right)} \\sin{\\left(\\phi_{E}{\\left(t \\right)} \\right)} + \\operatorname{v_{y}}{\\left(t \\right)}\\right)}{\\operatorname{q_{0}}^{2}{\\left(t \\right)} + \\operatorname{q_{1}}^{2}{\\left(t \\right)} + \\operatorname{q_{2}}^{2}{\\left(t \\right)} + \\operatorname{q_{3}}^{2}{\\left(t \\right)}}\\\\\\frac{2 \\left(- \\operatorname{q_{0}}{\\left(t \\right)} \\operatorname{q_{1}}{\\left(t \\right)} + \\operatorname{q_{2}}{\\left(t \\right)} \\operatorname{q_{3}}{\\left(t \\right)}\\right) \\left(- \\omega_{p} \\operatorname{p_{x}}{\\left(t \\right)} + \\operatorname{W_{D}}{\\left(t \\right)} \\sin{\\left(\\omega_{p} t + \\lambda_{E}{\\left(t \\right)} \\right)} \\cos{\\left(\\phi_{E}{\\left(t \\right)} \\right)} - \\operatorname{W_{E}}{\\left(t \\right)} \\cos{\\left(\\omega_{p} t + \\lambda_{E}{\\left(t \\right)} \\right)} + \\operatorname{W_{N}}{\\left(t \\right)} \\sin{\\left(\\omega_{p} t + \\lambda_{E}{\\left(t \\right)} \\right)} \\sin{\\left(\\phi_{E}{\\left(t \\right)} \\right)} + \\operatorname{v_{y}}{\\left(t \\right)}\\right) + 2 \\left(\\operatorname{q_{0}}{\\left(t \\right)} \\operatorname{q_{2}}{\\left(t \\right)} + \\operatorname{q_{1}}{\\left(t \\right)} \\operatorname{q_{3}}{\\left(t \\right)}\\right) \\left(\\omega_{p} \\operatorname{p_{y}}{\\left(t \\right)} + \\operatorname{W_{D}}{\\left(t \\right)} \\cos{\\left(\\omega_{p} t + \\lambda_{E}{\\left(t \\right)} \\right)} \\cos{\\left(\\phi_{E}{\\left(t \\right)} \\right)} + \\operatorname{W_{E}}{\\left(t \\right)} \\sin{\\left(\\omega_{p} t + \\lambda_{E}{\\left(t \\right)} \\right)} + \\operatorname{W_{N}}{\\left(t \\right)} \\sin{\\left(\\phi_{E}{\\left(t \\right)} \\right)} \\cos{\\left(\\omega_{p} t + \\lambda_{E}{\\left(t \\right)} \\right)} + \\operatorname{v_{x}}{\\left(t \\right)}\\right) + \\left(\\operatorname{W_{D}}{\\left(t \\right)} \\sin{\\left(\\phi_{E}{\\left(t \\right)} \\right)} - \\operatorname{W_{N}}{\\left(t \\right)} \\cos{\\left(\\phi_{E}{\\left(t \\right)} \\right)} + \\operatorname{v_{z}}{\\left(t \\right)}\\right) \\left(\\operatorname{q_{0}}^{2}{\\left(t \\right)} - \\operatorname{q_{1}}^{2}{\\left(t \\right)} - \\operatorname{q_{2}}^{2}{\\left(t \\right)} + \\operatorname{q_{3}}^{2}{\\left(t \\right)}\\right)}{\\operatorname{q_{0}}^{2}{\\left(t \\right)} + \\operatorname{q_{1}}^{2}{\\left(t \\right)} + \\operatorname{q_{2}}^{2}{\\left(t \\right)} + \\operatorname{q_{3}}^{2}{\\left(t \\right)}}\\end{matrix}\\right]$"
      ],
      "text/plain": [
       "Matrix([\n",
       "[(2*(-q_0(t)*q_2(t) + q_1(t)*q_3(t))*(W_D(t)*sin(phi_E(t)) - W_N(t)*cos(phi_E(t)) + v_z(t)) + 2*(q_0(t)*q_3(t) + q_1(t)*q_2(t))*(-omega_p*p_x(t) + W_D(t)*sin(omega_p*t + lamda_E(t))*cos(phi_E(t)) - W_E(t)*cos(omega_p*t + lamda_E(t)) + W_N(t)*sin(omega_p*t + lamda_E(t))*sin(phi_E(t)) + v_y(t)) + (q_0(t)**2 + q_1(t)**2 - q_2(t)**2 - q_3(t)**2)*(omega_p*p_y(t) + W_D(t)*cos(omega_p*t + lamda_E(t))*cos(phi_E(t)) + W_E(t)*sin(omega_p*t + lamda_E(t)) + W_N(t)*sin(phi_E(t))*cos(omega_p*t + lamda_E(t)) + v_x(t)))/(q_0(t)**2 + q_1(t)**2 + q_2(t)**2 + q_3(t)**2)],\n",
       "[(2*(q_0(t)*q_1(t) + q_2(t)*q_3(t))*(W_D(t)*sin(phi_E(t)) - W_N(t)*cos(phi_E(t)) + v_z(t)) + 2*(-q_0(t)*q_3(t) + q_1(t)*q_2(t))*(omega_p*p_y(t) + W_D(t)*cos(omega_p*t + lamda_E(t))*cos(phi_E(t)) + W_E(t)*sin(omega_p*t + lamda_E(t)) + W_N(t)*sin(phi_E(t))*cos(omega_p*t + lamda_E(t)) + v_x(t)) + (q_0(t)**2 - q_1(t)**2 + q_2(t)**2 - q_3(t)**2)*(-omega_p*p_x(t) + W_D(t)*sin(omega_p*t + lamda_E(t))*cos(phi_E(t)) - W_E(t)*cos(omega_p*t + lamda_E(t)) + W_N(t)*sin(omega_p*t + lamda_E(t))*sin(phi_E(t)) + v_y(t)))/(q_0(t)**2 + q_1(t)**2 + q_2(t)**2 + q_3(t)**2)],\n",
       "[(2*(-q_0(t)*q_1(t) + q_2(t)*q_3(t))*(-omega_p*p_x(t) + W_D(t)*sin(omega_p*t + lamda_E(t))*cos(phi_E(t)) - W_E(t)*cos(omega_p*t + lamda_E(t)) + W_N(t)*sin(omega_p*t + lamda_E(t))*sin(phi_E(t)) + v_y(t)) + 2*(q_0(t)*q_2(t) + q_1(t)*q_3(t))*(omega_p*p_y(t) + W_D(t)*cos(omega_p*t + lamda_E(t))*cos(phi_E(t)) + W_E(t)*sin(omega_p*t + lamda_E(t)) + W_N(t)*sin(phi_E(t))*cos(omega_p*t + lamda_E(t)) + v_x(t)) + (W_D(t)*sin(phi_E(t)) - W_N(t)*cos(phi_E(t)) + v_z(t))*(q_0(t)**2 - q_1(t)**2 - q_2(t)**2 + q_3(t)**2))/(q_0(t)**2 + q_1(t)**2 + q_2(t)**2 + q_3(t)**2)]])"
      ]
     },
     "execution_count": 10,
     "metadata": {},
     "output_type": "execute_result"
    }
   ],
   "source": [
    "B_cm.v1pt_theory(I0, G, I)\n",
    "local_wind = W_N*NED.x + W_E*NED.y + W_D*NED.z\n",
    "body_wind = B_cm.vel(G) - local_wind\n",
    "body_wind_I = body_wind.to_matrix(I).simplify()\n",
    "\n",
    "body_wind_B = B.dcm(I).simplify()@body_wind_I\n",
    "body_wind_B_simplified = body_wind_B.simplify()\n",
    "# for key, val in zip(airspeed_in_B, body_wind_B_simplified):\n",
    "#     kinematics_output_dict[key] = val\n",
    "body_wind_B_simplified"
   ]
  },
  {
   "cell_type": "code",
   "execution_count": 11,
   "metadata": {},
   "outputs": [],
   "source": [
    "V_T_simp = (body_wind.magnitude()**2).simplify()\n",
    "kinematics_output_dict[V_T] = sp.sqrt(V_T_simp*sp.Heaviside(V_T_simp)) # sp.Piecewise((sp.sqrt(V_T_simp), V_T_simp>0.), (0., True))\n",
    "kinematics_output_dict[alpha] = sp.atan2(body_wind_B_simplified[2], body_wind_B_simplified[0])\n",
    "kinematics_output_dict[beta] = sp.asin(sp.Piecewise((1., (body_wind_B_simplified[1]/kinematics_output_dict[V_T])>1.0), (-1., (body_wind_B_simplified[1]/kinematics_output_dict[V_T])<-1.0), (body_wind_B_simplified[1]/kinematics_output_dict[V_T], kinematics_output_dict[V_T]>0.), (0., True)))"
   ]
  },
  {
   "cell_type": "code",
   "execution_count": 12,
   "metadata": {},
   "outputs": [],
   "source": [
    "G_ang_vel_B_expr_dict = sp.solve(B.ang_vel_in(G).to_matrix(B) - sp.Matrix(G_ang_vel_B), G_ang_vel_B)\n",
    "kinematics_output_dict.update(G_ang_vel_B_expr_dict)"
   ]
  },
  {
   "cell_type": "code",
   "execution_count": 13,
   "metadata": {},
   "outputs": [],
   "source": [
    "V_NED_expr_dict = sp.solve(B_cm.vel(G).to_matrix(NED) - sp.Matrix(V_NED), V_NED)\n",
    "kinematics_output_dict.update(V_NED_expr_dict)"
   ]
  },
  {
   "cell_type": "code",
   "execution_count": 14,
   "metadata": {},
   "outputs": [
    {
     "data": {
      "text/latex": [
       "$\\displaystyle \\left[\\begin{matrix}\\cos{\\left(\\psi{\\left(t \\right)} \\right)} \\cos{\\left(\\theta{\\left(t \\right)} \\right)} & \\sin{\\left(\\phi{\\left(t \\right)} \\right)} \\sin{\\left(\\theta{\\left(t \\right)} \\right)} \\cos{\\left(\\psi{\\left(t \\right)} \\right)} - \\sin{\\left(\\psi{\\left(t \\right)} \\right)} \\cos{\\left(\\phi{\\left(t \\right)} \\right)} & \\sin{\\left(\\phi{\\left(t \\right)} \\right)} \\sin{\\left(\\psi{\\left(t \\right)} \\right)} + \\sin{\\left(\\theta{\\left(t \\right)} \\right)} \\cos{\\left(\\phi{\\left(t \\right)} \\right)} \\cos{\\left(\\psi{\\left(t \\right)} \\right)}\\\\\\sin{\\left(\\psi{\\left(t \\right)} \\right)} \\cos{\\left(\\theta{\\left(t \\right)} \\right)} & \\sin{\\left(\\phi{\\left(t \\right)} \\right)} \\sin{\\left(\\psi{\\left(t \\right)} \\right)} \\sin{\\left(\\theta{\\left(t \\right)} \\right)} + \\cos{\\left(\\phi{\\left(t \\right)} \\right)} \\cos{\\left(\\psi{\\left(t \\right)} \\right)} & - \\sin{\\left(\\phi{\\left(t \\right)} \\right)} \\cos{\\left(\\psi{\\left(t \\right)} \\right)} + \\sin{\\left(\\psi{\\left(t \\right)} \\right)} \\sin{\\left(\\theta{\\left(t \\right)} \\right)} \\cos{\\left(\\phi{\\left(t \\right)} \\right)}\\\\- \\sin{\\left(\\theta{\\left(t \\right)} \\right)} & \\sin{\\left(\\phi{\\left(t \\right)} \\right)} \\cos{\\left(\\theta{\\left(t \\right)} \\right)} & \\cos{\\left(\\phi{\\left(t \\right)} \\right)} \\cos{\\left(\\theta{\\left(t \\right)} \\right)}\\end{matrix}\\right]$"
      ],
      "text/plain": [
       "Matrix([\n",
       "[cos(psi(t))*cos(theta(t)), sin(phi(t))*sin(theta(t))*cos(psi(t)) - sin(psi(t))*cos(phi(t)),  sin(phi(t))*sin(psi(t)) + sin(theta(t))*cos(phi(t))*cos(psi(t))],\n",
       "[sin(psi(t))*cos(theta(t)), sin(phi(t))*sin(psi(t))*sin(theta(t)) + cos(phi(t))*cos(psi(t)), -sin(phi(t))*cos(psi(t)) + sin(psi(t))*sin(theta(t))*cos(phi(t))],\n",
       "[           -sin(theta(t)),                                       sin(phi(t))*cos(theta(t)),                                        cos(phi(t))*cos(theta(t))]])"
      ]
     },
     "execution_count": 14,
     "metadata": {},
     "output_type": "execute_result"
    }
   ],
   "source": [
    "B2 = NED.orientnew('B2', 'Body', [psi, theta, phi], '321')\n",
    "G_rotation_B = G.dcm(B2).simplify() # should be equivalent to LaRC slides [T^{BP}] at t=0, and taking into account ECI --> NED frames\n",
    "# LaRC provides a formula that seems to be the special case of Phillips 2001 for q0**2  > q1**2, q2**2, q3**2, with some sign flips\n",
    "# I'll stick with LaRC slides, but we should be aware of it based on\n",
    "\n",
    "# trying .T, (8:58)\n",
    "# could try transposing the quat -> psi theta phi instead? No, this one makes sense to me.\n",
    "# could also try flipping sign to match Phillips? but that should be the same due to double cover of SO(3)\n",
    "# I bet there was just a typo on e_4 as first element? order is correct for e_0 to be half_root_... so trying that (9:35), \n",
    "# this worked\n",
    "\n",
    "half_root_trace_plus_1 = sp.sqrt(G_rotation_B.trace()+1)/2\n",
    "quaternion_from_spec = sp.Array([\n",
    "    half_root_trace_plus_1,\n",
    "    (G_rotation_B[2,1] - G_rotation_B[1,2])/(4*half_root_trace_plus_1),\n",
    "    (G_rotation_B[0,2] - G_rotation_B[2,0])/(4*half_root_trace_plus_1),\n",
    "    (G_rotation_B[1,0] - G_rotation_B[0,1])/(4*half_root_trace_plus_1),\n",
    "    \n",
    "])\n",
    "quaternion_from_euler_dict = sp.solve(quaternion_from_spec- q, q)\n",
    "inertial_vel_from_relative_vel_NED_dict = sp.solve(B_cm.vel(G).to_matrix(NED) - sp.Matrix(V_NED), inertial_vel_I)\n",
    "ic_from_gd_dict = {}\n",
    "ic_from_gd_dict.update(inertial_vel_from_relative_vel_NED_dict)\n",
    "ic_from_gd_dict.update(quaternion_from_euler_dict)\n",
    "ic_from_gd = kinematics_state.subs(ic_from_gd_dict)\n",
    "\n",
    "sp.physics.mechanics.functions.find_dynamicsymbols(quaternion_from_spec)\n",
    "ic_extra = {}\n",
    "ic_extra[inertial_pos_I] = gd2gc\n",
    "ic_from_gd_args = (lamda_E, phi_E, h, V_N, V_E, V_D, psi, theta, phi, omega_X, omega_Y, omega_Z)\n",
    "\n",
    "NED.dcm(B2) # this is LaRC [T^{BP}], so previous cell is correct"
   ]
  },
  {
   "cell_type": "code",
   "execution_count": 15,
   "metadata": {},
   "outputs": [],
   "source": [
    "for wind_var in W_NED:\n",
    "    kinematics_output_dict[wind_var] = wind_var"
   ]
  },
  {
   "cell_type": "code",
   "execution_count": 16,
   "metadata": {},
   "outputs": [
    {
     "data": {
      "text/latex": [
       "$\\displaystyle \\operatorname{V_{T}}{\\left(t \\right)}$"
      ],
      "text/plain": [
       "V_T(t)"
      ]
     },
     "execution_count": 16,
     "metadata": {},
     "output_type": "execute_result"
    }
   ],
   "source": [
    "kinematics_output[-12]"
   ]
  },
  {
   "cell_type": "code",
   "execution_count": 17,
   "metadata": {},
   "outputs": [
    {
     "name": "stdout",
     "output_type": "stream",
     "text": [
      "p_x(t)\n",
      "p_y(t)\n",
      "p_z(t)\n",
      "v_x(t)\n",
      "v_y(t)\n",
      "v_z(t)\n",
      "q_0(t)\n",
      "q_1(t)\n",
      "q_2(t)\n",
      "q_3(t)\n",
      "omega_X(t)\n",
      "omega_Y(t)\n",
      "omega_Z(t)\n",
      "lamda_E(t)\n",
      "phi_E(t)\n",
      "h(t)\n",
      "psi(t)\n",
      "theta(t)\n",
      "phi(t)\n",
      "rho(t)\n",
      "c_s(t)\n",
      "mu(t)\n",
      "V_T(t)\n",
      "alpha(t)\n",
      "beta(t)\n",
      "p_B(t)\n",
      "q_B(t)\n",
      "r_B(t)\n",
      "V_N(t)\n",
      "V_E(t)\n",
      "V_D(t)\n",
      "W_N(t)\n",
      "W_E(t)\n",
      "W_D(t)\n"
     ]
    }
   ],
   "source": [
    "for key in kinematics_output_dict.keys():\n",
    "    print(key)"
   ]
  },
  {
   "cell_type": "code",
   "execution_count": 18,
   "metadata": {},
   "outputs": [],
   "source": [
    "kin_funcs_to_print = [    \n",
    "    dict(num_name='kinematics_state_function', input_args=sp.Array([t, *kinematics_state, *kinematics_input]), \n",
    "        sym_expr=kinematics_state.diff(t).subs(kinematics_state_equation_dict),\n",
    "        extra_assignments=kinematics_state_extra_dict ),\n",
    "        \n",
    "    dict(num_name='ic_from_geodetic', input_args=sp.Array([t, *ic_from_gd_args]), \n",
    "        sym_expr=ic_from_gd,\n",
    "        extra_assignments=ic_extra, ),\n",
    "    \n",
    "    dict(num_name='kinematics_output_function', input_args=sp.Array([t, *kinematics_state]), \n",
    "        sym_expr=kinematics_output.subs(kinematics_output_dict),\n",
    "        extra_assignments=kinematics_output_equation_extra_assinments_dict, ),\n",
    "]"
   ]
  },
  {
   "cell_type": "code",
   "execution_count": 19,
   "metadata": {},
   "outputs": [],
   "source": [
    "def staticfy_expressions(expr):\n",
    "    dyn_syms = list(sp.physics.mechanics.functions.find_dynamicsymbols(expr))\n",
    "    dynamic_to_static = {}\n",
    "    for sym in dyn_syms:\n",
    "        if (len(sym.args) == 1) and sym.args[0] == t:\n",
    "            dynamic_to_static[sym] = sp.symbols(sym.__class__.__name__)\n",
    "    \n",
    "    if len(dynamic_to_static) == 0:\n",
    "        return expr\n",
    "    \n",
    "    new_expr = expr.subs(dynamic_to_static)\n",
    "    \n",
    "    if (sp.Function in expr.__class__.__mro__) and hasattr(expr, 'shape'):\n",
    "        new_expr.shape = expr.shape\n",
    "    \n",
    "    return new_expr\n",
    "\n",
    "def process_funcs_to_print(funcs_to_print):\n",
    "    code_print_params = []\n",
    "    for funcs_to_print_dict in funcs_to_print:\n",
    "        extras_dict = {} #funcs_to_print_dict['extra_assignments'].copy()\n",
    "        for key,val in funcs_to_print_dict['extra_assignments'].items():\n",
    "            #print(key, val)\n",
    "            static_key = staticfy_expressions(key)\n",
    "            static_val = staticfy_expressions(val)\n",
    "            extras_dict[static_key] = static_val\n",
    "        funcs_to_print_dict['extra_assignments'] = extras_dict\n",
    "        funcs_to_print_dict['input_args'] = staticfy_expressions(funcs_to_print_dict['input_args'])\n",
    "        funcs_to_print_dict['sym_expr'] = staticfy_expressions(funcs_to_print_dict['sym_expr'])\n",
    "\n",
    "        tot_size = 1\n",
    "        if hasattr(funcs_to_print_dict['sym_expr'], 'shape'):\n",
    "            raveled_shape = funcs_to_print_dict['sym_expr'].shape\n",
    "            for dim in raveled_shape:\n",
    "                tot_size = tot_size*dim\n",
    "            funcs_to_print_dict['sym_expr'] = funcs_to_print_dict['sym_expr'].reshape(tot_size).tolist()\n",
    "\n",
    "        cse_out = sp.cse(funcs_to_print_dict['sym_expr'], order='none')\n",
    "        cse_subs = {k:v for k,v in cse_out[0]}\n",
    "        funcs_to_print_dict['extra_assignments'].update(cse_subs)\n",
    "\n",
    "        if tot_size > 1:\n",
    "            funcs_to_print_dict['sym_expr'] = sp.Array(cse_out[1]).reshape(*raveled_shape)\n",
    "        else:\n",
    "            funcs_to_print_dict['sym_expr'] = cse_out[1][0]\n",
    "\n",
    "        code_print_params.append( (funcs_to_print_dict['num_name'], funcs_to_print_dict['input_args'], funcs_to_print_dict['sym_expr'], funcs_to_print_dict['extra_assignments']) )\n",
    "    return code_print_params"
   ]
  },
  {
   "cell_type": "code",
   "execution_count": 20,
   "metadata": {},
   "outputs": [],
   "source": [
    "static_kinematics_function_modules = {}\n",
    "for key in kinematics_function_modules:\n",
    "    static_kinematics_function_modules[key.func] = kinematics_function_modules[key]\n",
    "\n",
    "kin_code_print_params = process_funcs_to_print(kin_funcs_to_print)\n",
    "kin_printer = codegen.ModuleNumPyPrinter(\n",
    "    for_class=True,\n",
    "    function_modules=static_kinematics_function_modules,# function_names=func_names,\n",
    "    constant_modules={var: 'self' for var in kinematics_parameters}, #constant_names={var: var. for var in kinematics_parameters}\n",
    ")\n",
    "kin_evaluator = codegen.ModulePrinter(kin_printer)\n",
    "kin_code = kin_evaluator.codeprint(\n",
    "    (kin_code_print_params[:])\n",
    ")\n",
    "with open('kinematics.py', \"w\") as f:\n",
    "    f.write(kin_code)"
   ]
  },
  {
   "cell_type": "code",
   "execution_count": 21,
   "metadata": {},
   "outputs": [],
   "source": [
    "m = symbols('m') \n",
    "Ixx, Iyy, Izz, Ixy, Iyz, Ixz = inertia_symbols = \\\n",
    "    symbols('I_xx, I_yy, I_zz, I_xy, I_yz, I_xz')\n",
    "\n",
    "com_x, com_y, com_z = com_pos = sp.Array(sp.symbols('x_com y_com z_com'))\n",
    "mrc_x, mrc_y, mrc_z = mrc_pos = sp.Array(sp.symbols('x_mrc y_mrc z_mrc'))\n",
    "S_A, a_l, b_l, c_l, d_l = sp.symbols('S_A a_l b_l c_l d_l') # reference area; reference directional, lateral, longitudinal lengths; Reynolds number reference length\n",
    "ref_lengths = np.array([a_l, c_l, b_l])\n",
    "\n",
    "dynamics_constants = (m, \n",
    "                   Ixx, Iyy, Izz, Ixy, Iyz, Ixz,\n",
    "                   com_x, com_y, com_z,\n",
    "                   mrc_x, mrc_y, mrc_z,\n",
    "                   S_A, a_l, b_l, c_l, d_l,)\n",
    "# Free-stream Frame, velocity along F.x\n",
    "\n",
    "# Wind frame, freestream wind in -W.x direction -- potentially \n",
    "W = vector.frame.ReferenceFrame('W') # Fs.orientnew('Ws', 'Body', [sigma, 0, 0], '123')\n",
    "# Stability frame, Sf.x and Sf.z in same plane as B.x, B.z\n",
    "Sf = W.orientnew('Sf', 'Body', [-beta, 0, 0], '312')\n",
    "Bw = Sf.orientnew('Bw', 'Body', [alpha, 0, 0], '231') # Body frame relative to wind\n",
    "\n",
    "\n",
    "# D, S, L = aero_forces = sp.Array(dynamicsymbols('D S L')) # aero Drag, Lift, Side forces\n",
    "aero_forces = sp.Array(dynamicsymbols('F_ax F_ay F_az')) # aero body fixed forces\n",
    "Lcal, Mcal, Ncal = aero_moments = sp.Array(dynamicsymbols('Lcal Mcal Ncal')) # aero Roll, Pitch, Yaw moment\n",
    "\n",
    "# total aero coefficients\n",
    "CD, CS, CL = total_aero_force_coeffs = sp.Array(dynamicsymbols('CD CS CL')) # static aero forces\n",
    "CLcal, CMcal, CNcal = total_aero_moment_coeffs = sp.Array(dynamicsymbols('CLcal CMcal CNcal')) # static aero moments\n",
    "# CLcal_s, CMcal_s, CNcal_s = transformed_static_aero_moment_coeffs = sp.Array(dynamicsymbols('CLcal_s CMcal_s CNcal_s')) # static aero moments\n",
    "Cp, Cq, Cr = total_aero_damping_coeffs = sp.Array(dynamicsymbols('Cp Cq Cr')) # dynamic aero moments\n",
    "\n",
    "Fx, Fy, Fz = tot_body_fixed_forces_var = sp.Array(dynamicsymbols('F_x F_y F_z')) # total body-fixed forces\n",
    "Mx, My, Mz = tot_body_fixed_moments_var = sp.Array(dynamicsymbols('M_x M_y M_z')) # total body-fixed moments\n",
    "\n",
    "\n",
    "# base aero coefficients\n",
    "CDb, CSb, CLb = base_aero_force_coeffs =  np.array(dynamicsymbols('CD_b CS_b CL_b'))\n",
    "CLcalb, CMcalb, CNcalb = base_aero_moment_coeffs = np.array(dynamicsymbols('CLcal_b CMcal_b CNcal_b'))\n",
    "Cpb, Cqb, Crb = base_aero_damping_coeffs = np.array(dynamicsymbols('Cp_b Cq_b Cr_b'))\n",
    "\n",
    "\n",
    "qbar, mach, reynolds = sp.symbols('qbar Ma Re')\n",
    "base_aero_coeffs_func = sp.Function('base_aero_coeffs')(alpha, beta, mach, reynolds)\n",
    "base_aero_coeffs_func.shape = (9,)\n",
    "\n",
    "# extra aero coefficients -- inputs, can be used to model aerodynamic control surfaces or do configuration management on aero (i.e., add wings or tail to base vehicle)\n",
    "# assumed to use same references areas/lengths as base, and moments are about same MRC\n",
    "CDe, CSe, CLe = input_aero_force_coeffs = np.array(dynamicsymbols('CD_e CS_e CL_e'))\n",
    "CLcale, CMcale, CNcale = input_aero_moment_coeffs = np.array(dynamicsymbols('CLcal_e CMcal_e CNcal_e'))\n",
    "Cpe, Cqe, Cre = input_aero_damping_coeffs = np.array(dynamicsymbols('Cp_e Cq_e Cr_e'))\n",
    "\n",
    "base_aero_coeffs = sp.Array([\n",
    "    *base_aero_force_coeffs,\n",
    "    *base_aero_moment_coeffs,\n",
    "    *base_aero_damping_coeffs,\n",
    "])\n",
    "\n",
    "input_aero_coeffs = sp.Array([\n",
    "    *input_aero_force_coeffs,\n",
    "    *input_aero_moment_coeffs,\n",
    "    *input_aero_damping_coeffs,\n",
    "])\n",
    "\n",
    "# extra forces and torques/moments in body-fixed coordinates (moments about center of mass)\n",
    "Phix, Phiy, Phiz = input_forces = sp.Array(dynamicsymbols('Phi_x Phi_y Phi_z'))\n",
    "taux, tauy, tauz = input_moments = sp.Array(dynamicsymbols('tau_x tau_y tau_z'))\n",
    "\n",
    "input_forces_moments = sp.Array([*input_forces, *input_moments])\n",
    "\n",
    "# aero_forces = -D*W.x - L*W.z + S*W.y\n",
    "# aero_moments = Lcal*B.x + Mcal*B.y + Ncal*B.z\n",
    "\n",
    "\n",
    "\n",
    "qbar_expr = V_T**2*density/2\n",
    "mach_expr = V_T/speed_of_sound\n",
    "Re_expr = V_T*d_l*density/viscosity\n",
    "\n",
    "total_aero_force_coeffs = base_aero_force_coeffs + input_aero_force_coeffs\n",
    "total_aero_damping_coeffs_mrc = base_aero_damping_coeffs + input_aero_damping_coeffs\n",
    "total_static_aero_moment_coeffs_mrc = base_aero_moment_coeffs + input_aero_moment_coeffs \n",
    "total_aero_moment_coeffs_mrc = total_static_aero_moment_coeffs_mrc + total_aero_damping_coeffs_mrc*ref_lengths*G_ang_vel_B*sp.Piecewise((1/(2*V_T), V_T> 0.), (0., True))\n",
    "\n",
    "dynamics_input = sp.Array([\n",
    "    t,\n",
    "    *kinematics_output,\n",
    "    *input_forces,\n",
    "    *input_moments,\n",
    "    *input_aero_force_coeffs,\n",
    "    *input_aero_moment_coeffs,\n",
    "    *input_aero_damping_coeffs,\n",
    "])\n",
    "\n",
    "dynamics_output = sp.Array([*inertial_acc_B, *I_ang_acc_B])\n",
    "dynamics_output_dict = {}\n",
    "\n",
    "\n",
    "\n",
    "dynamics_output_extra_dict = {}\n",
    "dynamics_output_extra_dict[qbar] = qbar_expr\n",
    "dynamics_output_extra_dict[mach] = mach_expr\n",
    "dynamics_output_extra_dict[reynolds] = Re_expr\n",
    "dynamics_output_extra_dict[base_aero_coeffs] = base_aero_coeffs_func\n",
    "\n",
    "\n",
    "# in general, moment coefficient = static coefficient + ((dynamic coefficient * angular rate * ref length) / (2 * true airspeed))\n",
    "# LaRC slides show an extra half factor on dynamic term, but NESC description doesn't have that... coefficients can be re-normalized\n",
    "# so just need to clarify the definition"
   ]
  },
  {
   "cell_type": "code",
   "execution_count": 22,
   "metadata": {},
   "outputs": [
    {
     "data": {
      "text/plain": [
       "{A_X(t): F_x(t)/m, A_Y(t): F_y(t)/m, A_Z(t): F_z(t)/m}"
      ]
     },
     "execution_count": 22,
     "metadata": {},
     "output_type": "execute_result"
    }
   ],
   "source": [
    "inertial_acc_B_dict = sp.solve(m*inertial_acc_B - tot_body_fixed_forces_var, inertial_acc_B) # this assumes constant mass\n",
    "dynamics_output_dict.update(inertial_acc_B_dict)\n",
    "inertial_acc_B_dict"
   ]
  },
  {
   "cell_type": "code",
   "execution_count": 23,
   "metadata": {},
   "outputs": [],
   "source": [
    "II = inertia(Bw, Ixx, Iyy, Izz, -Ixy, -Iyz, -Ixz)\n",
    "Bw_ang_vel_I = omega_X*Bw.x + omega_Y*Bw.y + omega_Z*Bw.z\n",
    "Bw_ang_acc_I = alpha_X*Bw.x + alpha_Y*Bw.y + alpha_Z*Bw.z\n",
    "inertial_ang_acc_B_dict = sp.solve(sp.Array((II.dot(Bw_ang_acc_I) + Bw_ang_vel_I.cross(II.dot(Bw_ang_vel_I))).to_matrix(Bw))[:, 0] - tot_body_fixed_moments_var, I_ang_acc_B)\n",
    "dynamics_output_dict.update(inertial_ang_acc_B_dict)\n"
   ]
  },
  {
   "cell_type": "code",
   "execution_count": 24,
   "metadata": {},
   "outputs": [
    {
     "name": "stdout",
     "output_type": "stream",
     "text": [
      "self.m, self.I_xx, self.I_yy, self.I_zz, self.I_xy, self.I_yz, self.I_xz, self.x_com, self.y_com, self.z_com, self.x_mrc, self.y_mrc, self.z_mrc, self.S_A, self.a_l, self.b_l, self.c_l, self.d_l\n"
     ]
    },
    {
     "data": {
      "text/latex": [
       "$\\displaystyle \\left( 6\\right)$"
      ],
      "text/plain": [
       "(6,)"
      ]
     },
     "execution_count": 24,
     "metadata": {},
     "output_type": "execute_result"
    }
   ],
   "source": [
    "print(', '.join(('self.' + var.__str__() for var in dynamics_constants)))\n",
    "\n",
    "kinematics_state.shape\n",
    "kinematics_input.shape\n",
    "kinematics_output.shape\n",
    "\n",
    "dynamics_input.shape\n",
    "dynamics_output.shape"
   ]
  },
  {
   "cell_type": "code",
   "execution_count": 25,
   "metadata": {},
   "outputs": [],
   "source": [
    "# total_aero_force_coeffs = base_aero_force_coeffs + input_aero_force_coeffs\n",
    "# total_aero_damping_coeffs_mrc = base_aero_damping_coeffs + input_aero_damping_coeffs\n",
    "# total_static_aero_moment_coeffs_mrc = base_aero_moment_coeffs + input_aero_moment_coeffs \n",
    "# total_aero_moment_coeffs_mrc = total_static_aero_moment_coeffs_mrc + total_aero_damping_coeffs_mrc*ref_lengths*G_ang_vel_B/(2*V_T)\n",
    "\n",
    "body_unit_vecs = np.array([Bw.x, Bw.y, Bw.z])\n",
    "wind_unit_vecs = np.array([W.x, W.y, W.z])\n",
    "total_aero_force_coeffs_vec = -total_aero_force_coeffs[0]*W.x + total_aero_force_coeffs[1]*W.y -total_aero_force_coeffs[2]*W.z\n",
    "total_aero_moment_coeffs_mrc_vec = np.sum(total_aero_moment_coeffs_mrc*body_unit_vecs)\n",
    "\n",
    "mrc_to_com = np.array(com_pos - mrc_pos)\n",
    "mrc_to_com_vec = np.sum(mrc_to_com*body_unit_vecs) #(com_x-mrc_x)*Bw.x + (com_y-mrc_y)*Bw.y + (com_z-mrc_z)*Bw.z\n",
    "\n",
    "\n",
    "#mrc_to_com_vec.cross(total_aero_force_coeffs_vec).express(Bw).simplify()\n",
    "total_aero_moment_coeffs_com = np.array(total_aero_moment_coeffs_mrc - np.array((total_aero_force_coeffs_vec.cross(mrc_to_com_vec)).to_matrix(Bw)).squeeze()/ref_lengths)#.simplify()\n",
    "total_aero_moments_com_expr = qbar*S_A*total_aero_moment_coeffs_com*ref_lengths\n",
    "total_aero_forces_expr = qbar*S_A*np.array(total_aero_force_coeffs_vec.to_matrix(Bw)).squeeze()\n",
    "\n",
    "total_aero_forces_moments_syms = sp.Array([*aero_forces, *aero_moments])\n",
    "total_aero_forces_moments_expr = sp.Array([*total_aero_forces_expr, *total_aero_moments_com_expr])\n",
    "total_aero_forces_moments_func = sp.Function('tot_aero_forces_moments')(qbar, V_T, alpha, beta, *G_ang_vel_B, *base_aero_coeffs, *input_aero_coeffs)\n",
    "total_aero_forces_moments_func.shape = (6,)\n",
    "\n",
    "\n",
    "dynamics_output_extra_dict[total_aero_forces_moments_syms] = total_aero_forces_moments_func\n",
    "\n",
    "tot_forces_moments_syms = sp.Array([*tot_body_fixed_forces_var, *tot_body_fixed_moments_var])\n",
    "tot_forces_moments_expr = total_aero_forces_moments_syms + input_forces_moments\n",
    "\n",
    "dynamics_output_extra_dict[tot_forces_moments_syms] = tot_forces_moments_expr"
   ]
  },
  {
   "cell_type": "code",
   "execution_count": 26,
   "metadata": {},
   "outputs": [],
   "source": [
    "# I don't think this does anything.\n",
    "# for key in dynamics_output_dict:\n",
    "#     dynamics_output_dict[key] = dynamics_output_dict[key].simplify()"
   ]
  },
  {
   "cell_type": "code",
   "execution_count": 27,
   "metadata": {},
   "outputs": [
    {
     "data": {
      "text/plain": [
       "(qbar,\n",
       " V_T(t),\n",
       " alpha(t),\n",
       " beta(t),\n",
       " p_B(t),\n",
       " q_B(t),\n",
       " r_B(t),\n",
       " CD_b(t),\n",
       " CS_b(t),\n",
       " CL_b(t),\n",
       " CLcal_b(t),\n",
       " CMcal_b(t),\n",
       " CNcal_b(t),\n",
       " Cp_b(t),\n",
       " Cq_b(t),\n",
       " Cr_b(t),\n",
       " CD_e(t),\n",
       " CS_e(t),\n",
       " CL_e(t),\n",
       " CLcal_e(t),\n",
       " CMcal_e(t),\n",
       " CNcal_e(t),\n",
       " Cp_e(t),\n",
       " Cq_e(t),\n",
       " Cr_e(t))"
      ]
     },
     "execution_count": 27,
     "metadata": {},
     "output_type": "execute_result"
    }
   ],
   "source": [
    "total_aero_forces_moments_func.args"
   ]
  },
  {
   "cell_type": "code",
   "execution_count": 28,
   "metadata": {},
   "outputs": [
    {
     "data": {
      "text/plain": [
       "{qbar: V_T(t)**2*rho(t)/2,\n",
       " Ma: V_T(t)/c_s(t),\n",
       " Re: d_l*V_T(t)*rho(t)/mu(t),\n",
       " [CD_b(t), CS_b(t), CL_b(t), CLcal_b(t), CMcal_b(t), CNcal_b(t), Cp_b(t), Cq_b(t), Cr_b(t)]: base_aero_coeffs(alpha(t), beta(t), Ma, Re),\n",
       " [F_ax(t), F_ay(t), F_az(t), Lcal(t), Mcal(t), Ncal(t)]: tot_aero_forces_moments(qbar, V_T(t), alpha(t), beta(t), p_B(t), q_B(t), r_B(t), CD_b(t), CS_b(t), CL_b(t), CLcal_b(t), CMcal_b(t), CNcal_b(t), Cp_b(t), Cq_b(t), Cr_b(t), CD_e(t), CS_e(t), CL_e(t), CLcal_e(t), CMcal_e(t), CNcal_e(t), Cp_e(t), Cq_e(t), Cr_e(t)),\n",
       " [F_x(t), F_y(t), F_z(t), M_x(t), M_y(t), M_z(t)]: [F_ax(t) + Phi_x(t), F_ay(t) + Phi_y(t), F_az(t) + Phi_z(t), Lcal(t) + tau_x(t), Mcal(t) + tau_y(t), Ncal(t) + tau_z(t)]}"
      ]
     },
     "execution_count": 28,
     "metadata": {},
     "output_type": "execute_result"
    }
   ],
   "source": [
    "dynamics_output_extra_dict"
   ]
  },
  {
   "cell_type": "code",
   "execution_count": 29,
   "metadata": {},
   "outputs": [],
   "source": [
    "dyn_funcs_to_print = [\n",
    "    dict(num_name=total_aero_forces_moments_func.func.__name__, input_args=sp.Array(total_aero_forces_moments_func.args), \n",
    "        sym_expr=total_aero_forces_moments_expr,\n",
    "        extra_assignments={}, ),\n",
    "    \n",
    "    dict(num_name='dynamics_output_function', input_args=dynamics_input, \n",
    "        sym_expr=dynamics_output.subs(dynamics_output_dict),\n",
    "        extra_assignments=dynamics_output_extra_dict, ),\n",
    "]"
   ]
  },
  {
   "cell_type": "code",
   "execution_count": 30,
   "metadata": {},
   "outputs": [
    {
     "name": "stdout",
     "output_type": "stream",
     "text": [
      "import numpy\n",
      "import self\n",
      "\n",
      "\n",
      "def tot_aero_forces_moments(self, qbar, V_T, alpha, beta, p_B, q_B, r_B, CD_b, CS_b, CL_b, CLcal_b, CMcal_b, CNcal_b, Cp_b, Cq_b, Cr_b, CD_e, CS_e, CL_e, CLcal_e, CMcal_e, CNcal_e, Cp_e, Cq_e, Cr_e):\n",
      "    x0 = -CL_b - CL_e\n",
      "    x1 = numpy.sin(alpha)\n",
      "    x2 = numpy.cos(alpha)\n",
      "    x3 = numpy.cos(beta)\n",
      "    x4 = -CD_b - CD_e\n",
      "    x5 = x3*x4\n",
      "    x6 = CS_b + CS_e\n",
      "    x7 = numpy.sin(beta)\n",
      "    x8 = x6*x7\n",
      "    x9 = -x0*x1 + x2*x5 - x2*x8\n",
      "    x10 = self.S_A*qbar\n",
      "    x11 = x3*x6 + x4*x7\n",
      "    x12 = x0*x2 + x1*x5 - x1*x8\n",
      "    x13 = self.z_com - self.z_mrc\n",
      "    x14 = self.y_com - self.y_mrc\n",
      "    x15 = numpy.select([numpy.greater(V_T, 0.0)], [(1/2)/V_T], default=0.0)\n",
      "    x16 = self.x_com - self.x_mrc\n",
      "    return (numpy.array([x10*x9, x10*x11, x10*x12, self.a_l*x10*(CLcal_b + CLcal_e + self.a_l*p_B*x15*(Cp_b + Cp_e) - (x11*x13 - x12*x14)/self.a_l), self.c_l*x10*(CMcal_b + CMcal_e + self.c_l*q_B*x15*(Cq_b + Cq_e) - (x12*x16 - x13*x9)/self.c_l), self.b_l*x10*(CNcal_b + CNcal_e + self.b_l*r_B*x15*(Cr_b + Cr_e) - (-x11*x16 + x14*x9)/self.b_l)]))\n",
      "\n",
      "def dynamics_output_function(self, t, p_x, p_y, p_z, v_x, v_y, v_z, q_0, q_1, q_2, q_3, omega_X, omega_Y, omega_Z, lamda_E, phi_E, h, psi, theta, phi, rho, c_s, mu, V_T, alpha, beta, p_B, q_B, r_B, V_N, V_E, V_D, W_N, W_E, W_D, Phi_x, Phi_y, Phi_z, tau_x, tau_y, tau_z, CD_e, CS_e, CL_e, CLcal_e, CMcal_e, CNcal_e, Cp_e, Cq_e, Cr_e):\n",
      "    qbar = (1/2)*V_T**2*rho\n",
      "    Ma = V_T/c_s\n",
      "    Re = V_T*self.d_l*rho/mu\n",
      "    [CD_b, CS_b, CL_b, CLcal_b, CMcal_b, CNcal_b, Cp_b, Cq_b, Cr_b] = self.base_aero_coeffs(alpha,beta,Ma,Re).ravel()\n",
      "    [F_ax, F_ay, F_az, Lcal, Mcal, Ncal] = self.tot_aero_forces_moments(qbar,V_T,alpha,beta,p_B,q_B,r_B,CD_b,CS_b,CL_b,CLcal_b,CMcal_b,CNcal_b,Cp_b,Cq_b,Cr_b,CD_e,CS_e,CL_e,CLcal_e,CMcal_e,CNcal_e,Cp_e,Cq_e,Cr_e).ravel()\n",
      "    [F_x, F_y, F_z, M_x, M_y, M_z] = numpy.array([F_ax + Phi_x, F_ay + Phi_y, F_az + Phi_z, Lcal + tau_x, Mcal + tau_y, Ncal + tau_z]).ravel()\n",
      "    x0 = 1/self.m\n",
      "    x1 = self.I_yz**2\n",
      "    x2 = self.I_xz**2\n",
      "    x3 = self.I_xy**2\n",
      "    x4 = self.I_yy*self.I_zz\n",
      "    x5 = self.I_xy*self.I_yz\n",
      "    x6 = 1/(self.I_xx*x1 - self.I_xx*x4 + 2*self.I_xz*x5 + self.I_yy*x2 + self.I_zz*x3)\n",
      "    x7 = omega_Y**2\n",
      "    x8 = omega_Z**2\n",
      "    x9 = omega_X*omega_Y\n",
      "    x10 = omega_Y*omega_Z\n",
      "    x11 = omega_X*omega_Z\n",
      "    x12 = -self.I_xy*x11 + self.I_xz*x9 + self.I_yy*x10 + self.I_yz*x7 - self.I_yz*x8 - self.I_zz*x10 + M_x\n",
      "    x13 = self.I_xz*self.I_yy + x5\n",
      "    x14 = omega_X**2\n",
      "    x15 = self.I_xx*x9 + self.I_xy*x14 - self.I_xy*x7 - self.I_xz*x10 - self.I_yy*x9 + self.I_yz*x11 + M_z\n",
      "    x16 = self.I_xy*self.I_zz + self.I_xz*self.I_yz\n",
      "    x17 = -self.I_xx*x11 + self.I_xy*x10 - self.I_xz*x14 + self.I_xz*x8 - self.I_yz*x9 + self.I_zz*x11 + M_y\n",
      "    x18 = self.I_xx*self.I_yz + self.I_xy*self.I_xz\n",
      "    return (numpy.array([F_x*x0, F_y*x0, F_z*x0, -x6*(x12*(-x1 + x4) + x13*x15 + x16*x17), -x6*(x12*x16 + x15*x18 + x17*(self.I_xx*self.I_zz - x2)), -x6*(x12*x13 + x15*(self.I_xx*self.I_yy - x3) + x17*x18)]))\n",
      "\n"
     ]
    }
   ],
   "source": [
    "dyn_printer = codegen.ModuleNumPyPrinter(\n",
    "    for_class=True, function_modules={total_aero_forces_moments_func.func: 'self', base_aero_coeffs_func.func: 'self',},\n",
    "#     function_modules=func_modules, function_names=func_names,\n",
    "    constant_modules={var: 'self' for var in dynamics_constants}, #constant_names={var: var. for var in kinematics_parameters}\n",
    ")\n",
    "dyn_evaluator = codegen.ModulePrinter(dyn_printer)\n",
    "\n",
    "dyn_code_print_params = process_funcs_to_print(dyn_funcs_to_print)\n",
    "\n",
    "dyn_code = dyn_evaluator.codeprint(\n",
    "    (dyn_code_print_params[:])\n",
    ")\n",
    "with open('dynamics.py', \"w\") as f:\n",
    "    f.write(dyn_code)\n",
    "print(dyn_code)"
   ]
  }
 ],
 "metadata": {
  "kernelspec": {
   "display_name": "Python 3",
   "language": "python",
   "name": "python3"
  },
  "language_info": {
   "codemirror_mode": {
    "name": "ipython",
    "version": 3
   },
   "file_extension": ".py",
   "mimetype": "text/x-python",
   "name": "python",
   "nbconvert_exporter": "python",
   "pygments_lexer": "ipython3",
   "version": "3.6.8"
  }
 },
 "nbformat": 4,
 "nbformat_minor": 4
}
